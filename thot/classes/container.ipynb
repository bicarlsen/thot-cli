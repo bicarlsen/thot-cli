{
 "cells": [
  {
   "cell_type": "markdown",
   "metadata": {},
   "source": [
    "# Container"
   ]
  },
  {
   "cell_type": "code",
   "execution_count": 2,
   "metadata": {},
   "outputs": [
    {
     "ename": "ModuleNotFoundError",
     "evalue": "No module named '__main__.base_object'; '__main__' is not a package",
     "output_type": "error",
     "traceback": [
      "\u001b[0;31m---------------------------------------------------------------------------\u001b[0m",
      "\u001b[0;31mModuleNotFoundError\u001b[0m                       Traceback (most recent call last)",
      "\u001b[0;32m<ipython-input-2-b4555639dbcc>\u001b[0m in \u001b[0;36m<module>\u001b[0;34m()\u001b[0m\n\u001b[1;32m      1\u001b[0m \u001b[0;32mfrom\u001b[0m \u001b[0mdatetime\u001b[0m \u001b[0;32mimport\u001b[0m \u001b[0mdatetime\u001b[0m\u001b[0;34m\u001b[0m\u001b[0m\n\u001b[1;32m      2\u001b[0m \u001b[0;34m\u001b[0m\u001b[0m\n\u001b[0;32m----> 3\u001b[0;31m \u001b[0;32mfrom\u001b[0m \u001b[0;34m.\u001b[0m\u001b[0mbase_object\u001b[0m \u001b[0;32mimport\u001b[0m \u001b[0mBaseObject\u001b[0m\u001b[0;34m\u001b[0m\u001b[0m\n\u001b[0m\u001b[1;32m      4\u001b[0m \u001b[0;32mfrom\u001b[0m \u001b[0;34m.\u001b[0m\u001b[0mrole\u001b[0m \u001b[0;32mimport\u001b[0m \u001b[0mRole\u001b[0m\u001b[0;34m\u001b[0m\u001b[0m\n\u001b[1;32m      5\u001b[0m \u001b[0;32mfrom\u001b[0m \u001b[0;34m.\u001b[0m\u001b[0mnote\u001b[0m \u001b[0;32mimport\u001b[0m \u001b[0mNote\u001b[0m\u001b[0;34m\u001b[0m\u001b[0m\n",
      "\u001b[0;31mModuleNotFoundError\u001b[0m: No module named '__main__.base_object'; '__main__' is not a package"
     ]
    }
   ],
   "source": [
    "from datetime import datetime\n",
    "\n",
    "from .base_object import BaseObject\n",
    "from .role     import Role\n",
    "from .metadata import Metadata\n",
    "from .script   import ScriptAssociation"
   ]
  },
  {
   "cell_type": "code",
   "execution_count": null,
   "metadata": {},
   "outputs": [],
   "source": [
    "class Container( BaseObject ):\n",
    "    \"\"\"\n",
    "    A Container.\n",
    "    \"\"\"\n",
    "    \n",
    "    def __init__( self, **kwargs ):\n",
    "        \"\"\"\n",
    "        Creates a new Asset.\n",
    "        \n",
    "        :param **kwargs: Initial property values.\n",
    "        \"\"\"\n",
    "        defaults = {\n",
    "            'created':      datetime.now(),\n",
    "            'type':         None,\n",
    "            'name':         None,\n",
    "            'description':  None,\n",
    "            'parent':       None,\n",
    "            'roles':        [],\n",
    "            'tags':         [],\n",
    "            'notes':        [],\n",
    "            'children':     [],\n",
    "            'assets':       [],\n",
    "            'scripts':      [],\n",
    "            'metadata':     {}\n",
    "        }\n",
    "        \n",
    "        super().__init__( kwargs, defaults )\n",
    "        \n",
    "        # roles\n",
    "        for index, role in enumerate( self.roles ):\n",
    "            self.roles[ index ] = Role( **role )\n",
    "    \n",
    "        # scripts\n",
    "        for index, script in enumerate( self.scripts ):\n",
    "            self.scripts[ index ] = ScriptAssociation( **script )\n",
    "    \n",
    "    \n",
    "    \n",
    "#     def find_descendants( self, search = {}, level = None ):\n",
    "#         \"\"\"\n",
    "#         Gets descendents.\n",
    "        \n",
    "#         :param match: Dictionary filter or None for no filter. [Default: None]\n",
    "#         :param level:\n",
    "#         :returns: List of Containers.\n",
    "#         \"\"\"\n",
    "#         pass\n",
    "    \n",
    "    \n",
    "#     def find_assets( self, search = {} ):\n",
    "#         \"\"\"\n",
    "        \n",
    "#         \"\"\"\n",
    "#         pass\n",
    "    \n",
    "    \n",
    "#     def find_scritps( self, search = {} ):\n",
    "#         \"\"\"\n",
    "        \n",
    "#         \"\"\"\n",
    "#         pass"
   ]
  }
 ],
 "metadata": {
  "kernelspec": {
   "display_name": "Python 3",
   "language": "python",
   "name": "python3"
  },
  "language_info": {
   "codemirror_mode": {
    "name": "ipython",
    "version": 3
   },
   "file_extension": ".py",
   "mimetype": "text/x-python",
   "name": "python",
   "nbconvert_exporter": "python",
   "pygments_lexer": "ipython3",
   "version": "3.6.5"
  }
 },
 "nbformat": 4,
 "nbformat_minor": 2
}
