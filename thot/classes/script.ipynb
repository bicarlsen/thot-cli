{
 "cells": [
  {
   "cell_type": "markdown",
   "metadata": {},
   "source": [
    "# Script"
   ]
  },
  {
   "cell_type": "code",
   "execution_count": null,
   "metadata": {},
   "outputs": [],
   "source": [
    "from datetime import datetime\n",
    "\n",
    "from .base_object import BaseObject\n",
    "from .role import Role\n",
    "from .note import Note\n",
    "from .metadata import Metadata"
   ]
  },
  {
   "cell_type": "code",
   "execution_count": null,
   "metadata": {},
   "outputs": [],
   "source": [
    "class Script( BaseObject ):\n",
    "    \"\"\"\n",
    "    A Script.\n",
    "    \"\"\"\n",
    "    \n",
    "    def __init__( self, **kwargs ):\n",
    "        \"\"\"\n",
    "        Creates a new Asset.\n",
    "        \n",
    "        :param **kwargs: Initial property values.\n",
    "        \"\"\"\n",
    "        defaults = {\n",
    "            'created':      datetime.now(),\n",
    "            'name':         None,\n",
    "            'file':         None,\n",
    "            'language':     None,\n",
    "            'description':  None,\n",
    "            'version':      0,\n",
    "            'tags':         [],\n",
    "            'roles':        [],\n",
    "            'notes':        []\n",
    "        }\n",
    "        \n",
    "        super().__init__( kwargs, defaults )"
   ]
  },
  {
   "cell_type": "code",
   "execution_count": null,
   "metadata": {},
   "outputs": [],
   "source": [
    "class ScriptAssociation( BaseObject ):\n",
    "    \"\"\"\n",
    "    A ScriptAssociation\n",
    "    \"\"\"\n",
    "    \n",
    "    def __init__( self, **kwargs ):\n",
    "        \"\"\"\n",
    "        :param **kwargs: Initial property values.\n",
    "        \"\"\"\n",
    "        defaults = {\n",
    "            'script': None,\n",
    "            'priority': 0,\n",
    "            'autorun':  False\n",
    "        }\n",
    "        \n",
    "        super().__init__( kwargs, defaults )\n",
    "        del self._id # remove _id field\n",
    "        \n",
    "        \n",
    "    def __lt__( self, other ):\n",
    "        \"\"\"\n",
    "        Defines comparison based on priority.\n",
    "        \n",
    "        :param other: ScriptAssociation for comparison.\n",
    "        :returns: True if priority is less than other, False otherwise.\n",
    "        \"\"\"\n",
    "        return ( self.priority < other.priority )\n",
    "        "
   ]
  },
  {
   "cell_type": "code",
   "execution_count": null,
   "metadata": {},
   "outputs": [],
   "source": []
  }
 ],
 "metadata": {
  "kernelspec": {
   "display_name": "Python 3",
   "language": "python",
   "name": "python3"
  },
  "language_info": {
   "codemirror_mode": {
    "name": "ipython",
    "version": 3
   },
   "file_extension": ".py",
   "mimetype": "text/x-python",
   "name": "python",
   "nbconvert_exporter": "python",
   "pygments_lexer": "ipython3",
   "version": "3.6.5"
  }
 },
 "nbformat": 4,
 "nbformat_minor": 2
}
