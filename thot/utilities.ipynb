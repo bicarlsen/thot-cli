{
 "cells": [
  {
   "cell_type": "markdown",
   "metadata": {},
   "source": [
    "# Project Utilities"
   ]
  },
  {
   "cell_type": "code",
   "execution_count": 1,
   "metadata": {},
   "outputs": [],
   "source": [
    "import os\n",
    "import json\n",
    "\n",
    "from .classes.base_object import BaseObjectJSONEncoder\n",
    "from .classes.script import ScriptAssociation\n",
    "from .db import local"
   ]
  },
  {
   "cell_type": "code",
   "execution_count": 5,
   "metadata": {},
   "outputs": [],
   "source": [
    "class ThotUtilities():\n",
    "    \"\"\"\n",
    "    \"\"\"\n",
    "    \n",
    "    def __init__( self, root ):\n",
    "        \"\"\"\n",
    "        :param root: Either a LocalDB or root path to create one.\n",
    "        \"\"\"\n",
    "        self._db = local.LocalDB( root )\n",
    "        \n",
    "        \n",
    "    def add_scripts( self, scripts, search, overwrite = False ):\n",
    "        \"\"\"\n",
    "        Add scripts to all containers that match search.\n",
    "\n",
    "        :param scripts: A list of or individual script associations to add.\n",
    "        :param search: A dictionary to filter containers.\n",
    "        :param overwrite: True to overwrite already existing scripts. [Default: False] \n",
    "        :returns: List of containers to which the scripts were added.\n",
    "        \"\"\"\n",
    "        if not isinstance( scripts, list ):\n",
    "            # single script passed in\n",
    "            scripts = [ scripts ]\n",
    "        \n",
    "        # create script associations\n",
    "        for index, script in enumerate( scripts ):\n",
    "            scripts[ index ] = ScriptAssociation( **script )\n",
    "        \n",
    "        modified = []\n",
    "        containers = self._db.containers.find( search )\n",
    "        for container in containers:\n",
    "            container_modified = False\n",
    "            \n",
    "            try:\n",
    "                path = container._scripts_path()\n",
    "                \n",
    "            except FileNotFoundError as err:\n",
    "                # scripts file does not exist\n",
    "                path = err.filename\n",
    "\n",
    "            container_scripts = [ script[ 'script' ] for script in container.scripts ]\n",
    "            for script in scripts:\n",
    "                if script.script in container_scripts:\n",
    "                    # script already in scripts\n",
    "                    if ( overwrite ):\n",
    "                        # replace with new script\n",
    "                        index = container_scripts.index( script.script )\n",
    "                        container.scripts[ index ] = script\n",
    "                        container_modified = True\n",
    "                    \n",
    "                else:\n",
    "                    # script does not exist yet\n",
    "                    container.scripts.append( script )\n",
    "                    container_modified = True\n",
    "                    \n",
    "            if container_modified:\n",
    "                modified.append( container )\n",
    "                \n",
    "                # save changes\n",
    "                with open( path, 'w' ) as f:\n",
    "                    json.dump( container.scripts, f, cls = BaseObjectJSONEncoder, indent = 4 )\n",
    "    \n",
    "        return modified\n",
    "        \n",
    "    \n",
    "    def remove_scripts( self, scripts, search ):\n",
    "        \"\"\"\n",
    "        Removes scripts from containers.\n",
    "        \n",
    "        :param scripts: List of or single scripts to remove.\n",
    "        :param search: A dictionary to filter containers.\n",
    "        :returns: List of affected containers.\n",
    "        \"\"\"\n",
    "        if not isinstance( scripts, list ):\n",
    "            # single script passed in\n",
    "            scripts = [ scripts ]\n",
    "        \n",
    "        modified = []\n",
    "        containers = self._db.containers.find( search )\n",
    "        for container in containers:\n",
    "            container_modified = False\n",
    "            \n",
    "            try:\n",
    "                path = container._scripts_path()\n",
    "\n",
    "            except FileNotFoundError as err:\n",
    "                # scripts file does not exist\n",
    "                path = err.filename\n",
    "            \n",
    "            container_scripts = [ script[ 'script' ] for script in container.scripts ]\n",
    "            for index in range( len( container_scripts ) - 1, -1, -1 ):\n",
    "                # iterate from back to front so deletes do not disturb order\n",
    "                \n",
    "                if container_scripts[ index ] in scripts:\n",
    "                    # script exists, remove it\n",
    "                    del container.scripts[ index ]\n",
    "                    container_modified = True\n",
    "                    \n",
    "            if container_modified:\n",
    "                modified.append( container )\n",
    "                \n",
    "                # save changes\n",
    "                with open( path, 'w' ) as f:\n",
    "                    json.dump( container.scripts, f, cls = BaseObjectJSONEncoder, indent = 4 )\n",
    "                \n",
    "        return modified\n",
    "    \n",
    "    \n",
    "    def set_scripts( self, scripts, search ):\n",
    "        \"\"\"\n",
    "        Sets scripts for Containers.\n",
    "        \n",
    "        :param scripts: List of or single scripts.\n",
    "        :param search: A dictionary to filter containers.\n",
    "        :returns: List of affected containers.\n",
    "        \"\"\"\n",
    "        if not isinstance( scripts, list ):\n",
    "            # single script passed in\n",
    "            scripts = [ scripts ]\n",
    "        \n",
    "        containers = self._db.containers.find( search )\n",
    "        for container in containers:\n",
    "            # get path to scripts file\n",
    "            try:\n",
    "                path = container._scripts_path()\n",
    "\n",
    "            except FileNotFoundError as err:\n",
    "                # scripts file does not exist\n",
    "                path = err.filename\n",
    "            \n",
    "            \n",
    "            with open( path, 'w' ) as f:\n",
    "                # set scripts\n",
    "                json.dump( scripts, f, cls = BaseObjectJSONEncoder, indent = 4 )\n",
    "                \n",
    "        return containers"
   ]
  },
  {
   "cell_type": "markdown",
   "metadata": {},
   "source": [
    "## Main"
   ]
  },
  {
   "cell_type": "code",
   "execution_count": 3,
   "metadata": {},
   "outputs": [
    {
     "name": "stderr",
     "output_type": "stream",
     "text": [
      "usage: ipykernel_launcher.py [-h] [-r ROOT] [-s SCRIPTS] function\n",
      "ipykernel_launcher.py: error: unrecognized arguments: -f\n"
     ]
    },
    {
     "ename": "SystemExit",
     "evalue": "2",
     "output_type": "error",
     "traceback": [
      "An exception has occurred, use %tb to see the full traceback.\n",
      "\u001b[0;31mSystemExit\u001b[0m\u001b[0;31m:\u001b[0m 2\n"
     ]
    },
    {
     "name": "stderr",
     "output_type": "stream",
     "text": [
      "/home/bric/anaconda3/lib/python3.6/site-packages/IPython/core/interactiveshell.py:2971: UserWarning: To exit: use 'exit', 'quit', or Ctrl-D.\n",
      "  warn(\"To exit: use 'exit', 'quit', or Ctrl-D.\", stacklevel=1)\n"
     ]
    }
   ],
   "source": [
    "if __name__ == '__main__':\n",
    "    \"\"\"\n",
    "    Provides utilities for building a Thot Local Project.\n",
    "    \"\"\"\n",
    "    from argparse import ArgumentParser\n",
    "    parser = ArgumentParser( description = 'Thot project utilities.' )\n",
    "    \n",
    "    parser.add_argument(\n",
    "        'function',\n",
    "        type = str,\n",
    "        default = '.',\n",
    "        help = 'Function to run.'\n",
    "    )\n",
    "    \n",
    "    parser.add_argument(\n",
    "        '-r', '--root',\n",
    "        type = str,\n",
    "        default = '.',\n",
    "        help = 'Path or ID of the root Container.'\n",
    "    )\n",
    "    \n",
    "    parser.add_argument(\n",
    "        '-s', '--search',\n",
    "        type = str,\n",
    "        help = 'JSON object describing Containers to target.'\n",
    "    )\n",
    "    \n",
    "    parser.add_argument(\n",
    "        '--scripts',\n",
    "        type = str,\n",
    "        help = 'List of scripts to add. Format depends on function.'\n",
    "    )\n",
    "    \n",
    "    parser.add_argument(\n",
    "        '-w', '--overwrite',\n",
    "        action = 'store_true',\n",
    "        help = 'Allows overwriting objects if they already exist.'\n",
    "    )\n",
    "    \n",
    "    args = parser.parse_args()\n",
    "    fcn  = args.function\n",
    "    output = True\n",
    "    util = ThotUtilities( os.path.abspath( args.root ) )\n",
    "\n",
    "    if fcn == 'add_scripts':\n",
    "        scripts = json.loads( args.scripts )\n",
    "        search  = json.loads( args.search  )\n",
    "        \n",
    "        modified = util.add_scripts( scripts, search, overwrite = args.overwrite )\n",
    "        \n",
    "    elif fcn == 'remove_scripts':\n",
    "        try:\n",
    "            scripts = json.loads( args.scripts )\n",
    "        \n",
    "        except json.decoder.JSONDecodeError as err:\n",
    "            # single script passed in\n",
    "            scripts = args.scripts\n",
    "        \n",
    "        search = json.loads( args.search )\n",
    "        \n",
    "        modified = util.remove_scripts( scripts, search )\n",
    "      \n",
    "    elif fcn == 'set_scripts':\n",
    "        scripts = json.loads( args.scripts )\n",
    "        search  = json.loads( args.search )\n",
    "        \n",
    "        modified = util.set_scripts( scripts, search )\n",
    "        \n",
    "    \n",
    "    if output:\n",
    "        for container in modified:\n",
    "            print( container._id )\n",
    "            \n",
    "            \n",
    "    "
   ]
  },
  {
   "cell_type": "markdown",
   "metadata": {},
   "source": [
    "# Work"
   ]
  },
  {
   "cell_type": "code",
   "execution_count": 6,
   "metadata": {},
   "outputs": [],
   "source": [
    "# util = ThotUtilities( os.path.abspath( '../../_tests/projects/inclined-plane' ) )"
   ]
  },
  {
   "cell_type": "code",
   "execution_count": 7,
   "metadata": {},
   "outputs": [
    {
     "data": {
      "text/plain": [
       "[<db.local.LocalContainer at 0x7f6c949051d0>]"
      ]
     },
     "execution_count": 7,
     "metadata": {},
     "output_type": "execute_result"
    }
   ],
   "source": [
    "# util.add_scripts( [{ 'script': 'new', 'priority': 0, 'autorun': True}], { 'type': 'project'} )"
   ]
  },
  {
   "cell_type": "code",
   "execution_count": null,
   "metadata": {},
   "outputs": [],
   "source": []
  }
 ],
 "metadata": {
  "kernelspec": {
   "display_name": "Python 3",
   "language": "python",
   "name": "python3"
  },
  "language_info": {
   "codemirror_mode": {
    "name": "ipython",
    "version": 3
   },
   "file_extension": ".py",
   "mimetype": "text/x-python",
   "name": "python",
   "nbconvert_exporter": "python",
   "pygments_lexer": "ipython3",
   "version": "3.6.5"
  }
 },
 "nbformat": 4,
 "nbformat_minor": 2
}
