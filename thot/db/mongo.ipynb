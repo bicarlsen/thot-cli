{
 "cells": [
  {
   "cell_type": "markdown",
   "metadata": {},
   "source": [
    "# Mongo Config\n",
    "Configuration MongoDB"
   ]
  },
  {
   "cell_type": "code",
   "execution_count": 4,
   "metadata": {},
   "outputs": [],
   "source": [
    "import os\n",
    "from pymongo import MongoClient"
   ]
  },
  {
   "cell_type": "code",
   "execution_count": 8,
   "metadata": {},
   "outputs": [],
   "source": [
    "class MongoDB():\n",
    "    \"\"\"\n",
    "    Hold a Mongo DB connection.\n",
    "    \"\"\"\n",
    "    \n",
    "    _connection_string = None\n",
    "\n",
    "    def __init__( self, connection_string = None, database = 'thot' ):\n",
    "        \"\"\"\n",
    "        :param connection_string: Connection string to use or None.\n",
    "            If None will attempt to get connection string from \n",
    "            environement variable THOT_DB_URI. If not found\n",
    "            will default to 'mongodb://localhost:27017'.\n",
    "            [Default: None]\n",
    "            \n",
    "        :param database: Name of the database to use. [Default: thot]\n",
    "        \"\"\"\n",
    "        #TODO [2]: Share connection across instances\n",
    "        self.__set_connection_string( connection_string )\n",
    "        \n",
    "        client = MongoClient( self._connection_string )\n",
    "        self.__db = client[ database ]\n",
    "        \n",
    "        \n",
    "    def __getattr__( self, item ):\n",
    "        \"\"\"\n",
    "        Only expose desired collections.\n",
    "        \n",
    "        :param item: \n",
    "        \"\"\"\n",
    "        visible = [ \n",
    "            'containers', \n",
    "            'assets' \n",
    "        ]\n",
    "        \n",
    "        hidden = [ # must be prefixed by underscore\n",
    "            '_scripts'\n",
    "        ]\n",
    "        \n",
    "        if item in visible:\n",
    "            return getattr( self.__db, item )\n",
    "        \n",
    "        elif item in hidden:\n",
    "            return getattr( self.__db, item[ 1: ] )\n",
    "        \n",
    "        # item was not white listed\n",
    "        raise AttributeError( 'Attribute {} is not accessible.'.format( item ) )\n",
    "        \n",
    "        \n",
    "    def __set_connection_string( self, connection_string = None ):\n",
    "        \"\"\"\n",
    "        Sets the connection string.\n",
    "        \n",
    "        :param connection_string: If None will attempt to get \n",
    "            connection string from environement variable THOT_DB_URI. \n",
    "            If not found will default to 'mongodb://localhost:27017'.\n",
    "            [Default: None]\n",
    "        \"\"\"\n",
    "        if connection_string is not None:\n",
    "            self._connection_string = connection_string\n",
    "            return\n",
    "        \n",
    "        # connection string not passed\n",
    "        try:\n",
    "            self._connection_string = os.environ[ 'THOT_DB_URI' ]\n",
    "            \n",
    "        except KeyError as err:\n",
    "            # environment variable not set\n",
    "            # use default\n",
    "            self._connection_string = 'mongodb://localhost:27017'"
   ]
  },
  {
   "cell_type": "markdown",
   "metadata": {},
   "source": [
    "# Work"
   ]
  },
  {
   "cell_type": "code",
   "execution_count": 9,
   "metadata": {},
   "outputs": [],
   "source": [
    "# db = MongoDB()"
   ]
  },
  {
   "cell_type": "code",
   "execution_count": null,
   "metadata": {},
   "outputs": [],
   "source": []
  }
 ],
 "metadata": {
  "kernelspec": {
   "display_name": "Python 3",
   "language": "python",
   "name": "python3"
  },
  "language_info": {
   "codemirror_mode": {
    "name": "ipython",
    "version": 3
   },
   "file_extension": ".py",
   "mimetype": "text/x-python",
   "name": "python",
   "nbconvert_exporter": "python",
   "pygments_lexer": "ipython3",
   "version": "3.6.5"
  }
 },
 "nbformat": 4,
 "nbformat_minor": 2
}
