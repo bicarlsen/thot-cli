{
 "cells": [
  {
   "cell_type": "markdown",
   "metadata": {},
   "source": [
    "# Mongo Config\n",
    "Configuration MongoDB"
   ]
  },
  {
   "cell_type": "code",
   "execution_count": 1,
   "metadata": {},
   "outputs": [],
   "source": [
    "from pymongo import MongoClient"
   ]
  },
  {
   "cell_type": "code",
   "execution_count": 8,
   "metadata": {},
   "outputs": [],
   "source": [
    "class MongoDB():\n",
    "    \"\"\"\n",
    "    Hold a Mongo DB connection.\n",
    "    \"\"\"\n",
    "    \n",
    "    _connection_string = 'mongodb://localhost:27017/thot'\n",
    "\n",
    "    def __init__( self ):\n",
    "        \"\"\"\n",
    "        \"\"\"\n",
    "        #TODO [2]: Share connection across instances\n",
    "        client = MongoClient( self._connection_string )\n",
    "        self.__db = client.thot\n",
    "        \n",
    "        \n",
    "    def __getattr__( self, item ):\n",
    "        \"\"\"\n",
    "        Only expose desired collections.\n",
    "        \n",
    "        :param item: \n",
    "        \"\"\"\n",
    "        visible = [ \n",
    "            'containers', \n",
    "            'assets' \n",
    "        ]\n",
    "        \n",
    "        hidden = [ # must be prefixed by underscore\n",
    "            '_scripts'\n",
    "        ]\n",
    "        \n",
    "        if item in visible:\n",
    "            return getattr( self.__db, item )\n",
    "        \n",
    "        elif item in hidden:\n",
    "            return getattr( self.__db, item[ 1: ] )\n",
    "        \n",
    "        # item was not white listed\n",
    "        raise AttributeError( 'Attribute {} is not accessible.'.format( item ) )"
   ]
  },
  {
   "cell_type": "markdown",
   "metadata": {},
   "source": [
    "# Work"
   ]
  },
  {
   "cell_type": "code",
   "execution_count": 9,
   "metadata": {},
   "outputs": [],
   "source": [
    "# db = MongoDB( None )"
   ]
  },
  {
   "cell_type": "code",
   "execution_count": null,
   "metadata": {},
   "outputs": [],
   "source": []
  }
 ],
 "metadata": {
  "kernelspec": {
   "display_name": "Python 3",
   "language": "python",
   "name": "python3"
  },
  "language_info": {
   "codemirror_mode": {
    "name": "ipython",
    "version": 3
   },
   "file_extension": ".py",
   "mimetype": "text/x-python",
   "name": "python",
   "nbconvert_exporter": "python",
   "pygments_lexer": "ipython3",
   "version": "3.7.3"
  }
 },
 "nbformat": 4,
 "nbformat_minor": 2
}
