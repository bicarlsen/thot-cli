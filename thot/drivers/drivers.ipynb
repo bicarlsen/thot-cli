{
 "cells": [
  {
   "cell_type": "markdown",
   "metadata": {},
   "source": [
    "# Drivers"
   ]
  },
  {
   "cell_type": "code",
   "execution_count": null,
   "metadata": {},
   "outputs": [],
   "source": [
    "from .aws_s3 import ThotS3Driver"
   ]
  },
  {
   "cell_type": "code",
   "execution_count": null,
   "metadata": {},
   "outputs": [],
   "source": [
    "def get_driver( driver ):\n",
    "        \"\"\"\n",
    "        Gets an asset driver.\n",
    "        \n",
    "        :param driver: Name of the driver to retrieve.\n",
    "        :returns: Instantiation fo the driver. \n",
    "        \"\"\"\n",
    "        if not driver:\n",
    "            return None\n",
    "        \n",
    "        elif driver == 'aws_s3':\n",
    "            # AWS S3 driver\n",
    "            return ThotS3Driver\n",
    "        \n",
    "        else:\n",
    "            raise ValueError( 'Invalid driver name' )"
   ]
  }
 ],
 "metadata": {
  "kernelspec": {
   "display_name": "Python 3",
   "language": "python",
   "name": "python3"
  },
  "language_info": {
   "codemirror_mode": {
    "name": "ipython",
    "version": 3
   },
   "file_extension": ".py",
   "mimetype": "text/x-python",
   "name": "python",
   "nbconvert_exporter": "python",
   "pygments_lexer": "ipython3",
   "version": "3.6.5"
  }
 },
 "nbformat": 4,
 "nbformat_minor": 2
}
